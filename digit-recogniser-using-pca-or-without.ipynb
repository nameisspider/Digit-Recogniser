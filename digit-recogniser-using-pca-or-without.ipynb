{
 "cells": [
  {
   "cell_type": "code",
   "execution_count": 1,
   "id": "d9ba0f2e",
   "metadata": {
    "_cell_guid": "b1076dfc-b9ad-4769-8c92-a6c4dae69d19",
    "_uuid": "8f2839f25d086af736a60e9eeb907d3b93b6e0e5",
    "execution": {
     "iopub.execute_input": "2021-10-26T04:27:47.269770Z",
     "iopub.status.busy": "2021-10-26T04:27:47.267761Z",
     "iopub.status.idle": "2021-10-26T04:27:47.286807Z",
     "shell.execute_reply": "2021-10-26T04:27:47.287435Z",
     "shell.execute_reply.started": "2021-10-26T03:04:13.046121Z"
    },
    "papermill": {
     "duration": 0.049169,
     "end_time": "2021-10-26T04:27:47.287749",
     "exception": false,
     "start_time": "2021-10-26T04:27:47.238580",
     "status": "completed"
    },
    "tags": []
   },
   "outputs": [
    {
     "name": "stdout",
     "output_type": "stream",
     "text": [
      "/kaggle/input/digit-recognizer/sample_submission.csv\n",
      "/kaggle/input/digit-recognizer/train.csv\n",
      "/kaggle/input/digit-recognizer/test.csv\n"
     ]
    }
   ],
   "source": [
    "# This Python 3 environment comes with many helpful analytics libraries installed\n",
    "# It is defined by the kaggle/python Docker image: https://github.com/kaggle/docker-python\n",
    "# For example, here's several helpful packages to load\n",
    "\n",
    "import numpy as np # linear algebra\n",
    "import pandas as pd # data processing, CSV file I/O (e.g. pd.read_csv)\n",
    "\n",
    "# Input data files are available in the read-only \"../input/\" directory\n",
    "# For example, running this (by clicking run or pressing Shift+Enter) will list all files under the input directory\n",
    "\n",
    "import os\n",
    "for dirname, _, filenames in os.walk('/kaggle/input'):\n",
    "    for filename in filenames:\n",
    "        print(os.path.join(dirname, filename))\n",
    "\n",
    "# You can write up to 20GB to the current directory (/kaggle/working/) that gets preserved as output when you create a version using \"Save & Run All\" \n",
    "# You can also write temporary files to /kaggle/temp/, but they won't be saved outside of the current session"
   ]
  },
  {
   "cell_type": "code",
   "execution_count": 2,
   "id": "7516f36e",
   "metadata": {
    "execution": {
     "iopub.execute_input": "2021-10-26T04:27:47.336628Z",
     "iopub.status.busy": "2021-10-26T04:27:47.335476Z",
     "iopub.status.idle": "2021-10-26T04:27:48.817010Z",
     "shell.execute_reply": "2021-10-26T04:27:48.816341Z",
     "shell.execute_reply.started": "2021-10-26T03:04:13.058281Z"
    },
    "papermill": {
     "duration": 1.506977,
     "end_time": "2021-10-26T04:27:48.817201",
     "exception": false,
     "start_time": "2021-10-26T04:27:47.310224",
     "status": "completed"
    },
    "tags": []
   },
   "outputs": [],
   "source": [
    "import matplotlib.pyplot as plt\n",
    "import seaborn as sns\n",
    "from sklearn.preprocessing import StandardScaler\n",
    "from sklearn.model_selection import train_test_split\n",
    "from sklearn.decomposition import PCA\n",
    "from sklearn.metrics import accuracy_score\n",
    "from sklearn.neighbors import KNeighborsClassifier\n",
    "from sklearn.linear_model import LogisticRegression"
   ]
  },
  {
   "cell_type": "markdown",
   "id": "11e0388a",
   "metadata": {
    "execution": {
     "iopub.execute_input": "2021-10-25T16:49:49.341708Z",
     "iopub.status.busy": "2021-10-25T16:49:49.340633Z",
     "iopub.status.idle": "2021-10-25T16:49:49.347886Z",
     "shell.execute_reply": "2021-10-25T16:49:49.346536Z",
     "shell.execute_reply.started": "2021-10-25T16:49:49.341654Z"
    },
    "papermill": {
     "duration": 0.022798,
     "end_time": "2021-10-26T04:27:48.861686",
     "exception": false,
     "start_time": "2021-10-26T04:27:48.838888",
     "status": "completed"
    },
    "tags": []
   },
   "source": [
    "# Without PCA Digit Recogniser\n"
   ]
  },
  {
   "cell_type": "code",
   "execution_count": 3,
   "id": "097e3a23",
   "metadata": {
    "execution": {
     "iopub.execute_input": "2021-10-26T04:27:48.909961Z",
     "iopub.status.busy": "2021-10-26T04:27:48.908950Z",
     "iopub.status.idle": "2021-10-26T04:27:52.554364Z",
     "shell.execute_reply": "2021-10-26T04:27:52.555047Z",
     "shell.execute_reply.started": "2021-10-26T03:04:13.067718Z"
    },
    "papermill": {
     "duration": 3.670682,
     "end_time": "2021-10-26T04:27:52.555247",
     "exception": false,
     "start_time": "2021-10-26T04:27:48.884565",
     "status": "completed"
    },
    "tags": []
   },
   "outputs": [],
   "source": [
    "df = pd.read_csv('/kaggle/input/digit-recognizer/train.csv')"
   ]
  },
  {
   "cell_type": "code",
   "execution_count": 4,
   "id": "cf52b3c7",
   "metadata": {
    "execution": {
     "iopub.execute_input": "2021-10-26T04:27:52.607903Z",
     "iopub.status.busy": "2021-10-26T04:27:52.607172Z",
     "iopub.status.idle": "2021-10-26T04:27:52.635104Z",
     "shell.execute_reply": "2021-10-26T04:27:52.634484Z",
     "shell.execute_reply.started": "2021-10-26T03:04:15.530760Z"
    },
    "papermill": {
     "duration": 0.058109,
     "end_time": "2021-10-26T04:27:52.635265",
     "exception": false,
     "start_time": "2021-10-26T04:27:52.577156",
     "status": "completed"
    },
    "tags": []
   },
   "outputs": [
    {
     "data": {
      "text/html": [
       "<div>\n",
       "<style scoped>\n",
       "    .dataframe tbody tr th:only-of-type {\n",
       "        vertical-align: middle;\n",
       "    }\n",
       "\n",
       "    .dataframe tbody tr th {\n",
       "        vertical-align: top;\n",
       "    }\n",
       "\n",
       "    .dataframe thead th {\n",
       "        text-align: right;\n",
       "    }\n",
       "</style>\n",
       "<table border=\"1\" class=\"dataframe\">\n",
       "  <thead>\n",
       "    <tr style=\"text-align: right;\">\n",
       "      <th></th>\n",
       "      <th>label</th>\n",
       "      <th>pixel0</th>\n",
       "      <th>pixel1</th>\n",
       "      <th>pixel2</th>\n",
       "      <th>pixel3</th>\n",
       "      <th>pixel4</th>\n",
       "      <th>pixel5</th>\n",
       "      <th>pixel6</th>\n",
       "      <th>pixel7</th>\n",
       "      <th>pixel8</th>\n",
       "      <th>...</th>\n",
       "      <th>pixel774</th>\n",
       "      <th>pixel775</th>\n",
       "      <th>pixel776</th>\n",
       "      <th>pixel777</th>\n",
       "      <th>pixel778</th>\n",
       "      <th>pixel779</th>\n",
       "      <th>pixel780</th>\n",
       "      <th>pixel781</th>\n",
       "      <th>pixel782</th>\n",
       "      <th>pixel783</th>\n",
       "    </tr>\n",
       "  </thead>\n",
       "  <tbody>\n",
       "    <tr>\n",
       "      <th>0</th>\n",
       "      <td>1</td>\n",
       "      <td>0</td>\n",
       "      <td>0</td>\n",
       "      <td>0</td>\n",
       "      <td>0</td>\n",
       "      <td>0</td>\n",
       "      <td>0</td>\n",
       "      <td>0</td>\n",
       "      <td>0</td>\n",
       "      <td>0</td>\n",
       "      <td>...</td>\n",
       "      <td>0</td>\n",
       "      <td>0</td>\n",
       "      <td>0</td>\n",
       "      <td>0</td>\n",
       "      <td>0</td>\n",
       "      <td>0</td>\n",
       "      <td>0</td>\n",
       "      <td>0</td>\n",
       "      <td>0</td>\n",
       "      <td>0</td>\n",
       "    </tr>\n",
       "    <tr>\n",
       "      <th>1</th>\n",
       "      <td>0</td>\n",
       "      <td>0</td>\n",
       "      <td>0</td>\n",
       "      <td>0</td>\n",
       "      <td>0</td>\n",
       "      <td>0</td>\n",
       "      <td>0</td>\n",
       "      <td>0</td>\n",
       "      <td>0</td>\n",
       "      <td>0</td>\n",
       "      <td>...</td>\n",
       "      <td>0</td>\n",
       "      <td>0</td>\n",
       "      <td>0</td>\n",
       "      <td>0</td>\n",
       "      <td>0</td>\n",
       "      <td>0</td>\n",
       "      <td>0</td>\n",
       "      <td>0</td>\n",
       "      <td>0</td>\n",
       "      <td>0</td>\n",
       "    </tr>\n",
       "    <tr>\n",
       "      <th>2</th>\n",
       "      <td>1</td>\n",
       "      <td>0</td>\n",
       "      <td>0</td>\n",
       "      <td>0</td>\n",
       "      <td>0</td>\n",
       "      <td>0</td>\n",
       "      <td>0</td>\n",
       "      <td>0</td>\n",
       "      <td>0</td>\n",
       "      <td>0</td>\n",
       "      <td>...</td>\n",
       "      <td>0</td>\n",
       "      <td>0</td>\n",
       "      <td>0</td>\n",
       "      <td>0</td>\n",
       "      <td>0</td>\n",
       "      <td>0</td>\n",
       "      <td>0</td>\n",
       "      <td>0</td>\n",
       "      <td>0</td>\n",
       "      <td>0</td>\n",
       "    </tr>\n",
       "    <tr>\n",
       "      <th>3</th>\n",
       "      <td>4</td>\n",
       "      <td>0</td>\n",
       "      <td>0</td>\n",
       "      <td>0</td>\n",
       "      <td>0</td>\n",
       "      <td>0</td>\n",
       "      <td>0</td>\n",
       "      <td>0</td>\n",
       "      <td>0</td>\n",
       "      <td>0</td>\n",
       "      <td>...</td>\n",
       "      <td>0</td>\n",
       "      <td>0</td>\n",
       "      <td>0</td>\n",
       "      <td>0</td>\n",
       "      <td>0</td>\n",
       "      <td>0</td>\n",
       "      <td>0</td>\n",
       "      <td>0</td>\n",
       "      <td>0</td>\n",
       "      <td>0</td>\n",
       "    </tr>\n",
       "    <tr>\n",
       "      <th>4</th>\n",
       "      <td>0</td>\n",
       "      <td>0</td>\n",
       "      <td>0</td>\n",
       "      <td>0</td>\n",
       "      <td>0</td>\n",
       "      <td>0</td>\n",
       "      <td>0</td>\n",
       "      <td>0</td>\n",
       "      <td>0</td>\n",
       "      <td>0</td>\n",
       "      <td>...</td>\n",
       "      <td>0</td>\n",
       "      <td>0</td>\n",
       "      <td>0</td>\n",
       "      <td>0</td>\n",
       "      <td>0</td>\n",
       "      <td>0</td>\n",
       "      <td>0</td>\n",
       "      <td>0</td>\n",
       "      <td>0</td>\n",
       "      <td>0</td>\n",
       "    </tr>\n",
       "    <tr>\n",
       "      <th>...</th>\n",
       "      <td>...</td>\n",
       "      <td>...</td>\n",
       "      <td>...</td>\n",
       "      <td>...</td>\n",
       "      <td>...</td>\n",
       "      <td>...</td>\n",
       "      <td>...</td>\n",
       "      <td>...</td>\n",
       "      <td>...</td>\n",
       "      <td>...</td>\n",
       "      <td>...</td>\n",
       "      <td>...</td>\n",
       "      <td>...</td>\n",
       "      <td>...</td>\n",
       "      <td>...</td>\n",
       "      <td>...</td>\n",
       "      <td>...</td>\n",
       "      <td>...</td>\n",
       "      <td>...</td>\n",
       "      <td>...</td>\n",
       "      <td>...</td>\n",
       "    </tr>\n",
       "    <tr>\n",
       "      <th>41995</th>\n",
       "      <td>0</td>\n",
       "      <td>0</td>\n",
       "      <td>0</td>\n",
       "      <td>0</td>\n",
       "      <td>0</td>\n",
       "      <td>0</td>\n",
       "      <td>0</td>\n",
       "      <td>0</td>\n",
       "      <td>0</td>\n",
       "      <td>0</td>\n",
       "      <td>...</td>\n",
       "      <td>0</td>\n",
       "      <td>0</td>\n",
       "      <td>0</td>\n",
       "      <td>0</td>\n",
       "      <td>0</td>\n",
       "      <td>0</td>\n",
       "      <td>0</td>\n",
       "      <td>0</td>\n",
       "      <td>0</td>\n",
       "      <td>0</td>\n",
       "    </tr>\n",
       "    <tr>\n",
       "      <th>41996</th>\n",
       "      <td>1</td>\n",
       "      <td>0</td>\n",
       "      <td>0</td>\n",
       "      <td>0</td>\n",
       "      <td>0</td>\n",
       "      <td>0</td>\n",
       "      <td>0</td>\n",
       "      <td>0</td>\n",
       "      <td>0</td>\n",
       "      <td>0</td>\n",
       "      <td>...</td>\n",
       "      <td>0</td>\n",
       "      <td>0</td>\n",
       "      <td>0</td>\n",
       "      <td>0</td>\n",
       "      <td>0</td>\n",
       "      <td>0</td>\n",
       "      <td>0</td>\n",
       "      <td>0</td>\n",
       "      <td>0</td>\n",
       "      <td>0</td>\n",
       "    </tr>\n",
       "    <tr>\n",
       "      <th>41997</th>\n",
       "      <td>7</td>\n",
       "      <td>0</td>\n",
       "      <td>0</td>\n",
       "      <td>0</td>\n",
       "      <td>0</td>\n",
       "      <td>0</td>\n",
       "      <td>0</td>\n",
       "      <td>0</td>\n",
       "      <td>0</td>\n",
       "      <td>0</td>\n",
       "      <td>...</td>\n",
       "      <td>0</td>\n",
       "      <td>0</td>\n",
       "      <td>0</td>\n",
       "      <td>0</td>\n",
       "      <td>0</td>\n",
       "      <td>0</td>\n",
       "      <td>0</td>\n",
       "      <td>0</td>\n",
       "      <td>0</td>\n",
       "      <td>0</td>\n",
       "    </tr>\n",
       "    <tr>\n",
       "      <th>41998</th>\n",
       "      <td>6</td>\n",
       "      <td>0</td>\n",
       "      <td>0</td>\n",
       "      <td>0</td>\n",
       "      <td>0</td>\n",
       "      <td>0</td>\n",
       "      <td>0</td>\n",
       "      <td>0</td>\n",
       "      <td>0</td>\n",
       "      <td>0</td>\n",
       "      <td>...</td>\n",
       "      <td>0</td>\n",
       "      <td>0</td>\n",
       "      <td>0</td>\n",
       "      <td>0</td>\n",
       "      <td>0</td>\n",
       "      <td>0</td>\n",
       "      <td>0</td>\n",
       "      <td>0</td>\n",
       "      <td>0</td>\n",
       "      <td>0</td>\n",
       "    </tr>\n",
       "    <tr>\n",
       "      <th>41999</th>\n",
       "      <td>9</td>\n",
       "      <td>0</td>\n",
       "      <td>0</td>\n",
       "      <td>0</td>\n",
       "      <td>0</td>\n",
       "      <td>0</td>\n",
       "      <td>0</td>\n",
       "      <td>0</td>\n",
       "      <td>0</td>\n",
       "      <td>0</td>\n",
       "      <td>...</td>\n",
       "      <td>0</td>\n",
       "      <td>0</td>\n",
       "      <td>0</td>\n",
       "      <td>0</td>\n",
       "      <td>0</td>\n",
       "      <td>0</td>\n",
       "      <td>0</td>\n",
       "      <td>0</td>\n",
       "      <td>0</td>\n",
       "      <td>0</td>\n",
       "    </tr>\n",
       "  </tbody>\n",
       "</table>\n",
       "<p>42000 rows × 785 columns</p>\n",
       "</div>"
      ],
      "text/plain": [
       "       label  pixel0  pixel1  pixel2  pixel3  pixel4  pixel5  pixel6  pixel7  \\\n",
       "0          1       0       0       0       0       0       0       0       0   \n",
       "1          0       0       0       0       0       0       0       0       0   \n",
       "2          1       0       0       0       0       0       0       0       0   \n",
       "3          4       0       0       0       0       0       0       0       0   \n",
       "4          0       0       0       0       0       0       0       0       0   \n",
       "...      ...     ...     ...     ...     ...     ...     ...     ...     ...   \n",
       "41995      0       0       0       0       0       0       0       0       0   \n",
       "41996      1       0       0       0       0       0       0       0       0   \n",
       "41997      7       0       0       0       0       0       0       0       0   \n",
       "41998      6       0       0       0       0       0       0       0       0   \n",
       "41999      9       0       0       0       0       0       0       0       0   \n",
       "\n",
       "       pixel8  ...  pixel774  pixel775  pixel776  pixel777  pixel778  \\\n",
       "0           0  ...         0         0         0         0         0   \n",
       "1           0  ...         0         0         0         0         0   \n",
       "2           0  ...         0         0         0         0         0   \n",
       "3           0  ...         0         0         0         0         0   \n",
       "4           0  ...         0         0         0         0         0   \n",
       "...       ...  ...       ...       ...       ...       ...       ...   \n",
       "41995       0  ...         0         0         0         0         0   \n",
       "41996       0  ...         0         0         0         0         0   \n",
       "41997       0  ...         0         0         0         0         0   \n",
       "41998       0  ...         0         0         0         0         0   \n",
       "41999       0  ...         0         0         0         0         0   \n",
       "\n",
       "       pixel779  pixel780  pixel781  pixel782  pixel783  \n",
       "0             0         0         0         0         0  \n",
       "1             0         0         0         0         0  \n",
       "2             0         0         0         0         0  \n",
       "3             0         0         0         0         0  \n",
       "4             0         0         0         0         0  \n",
       "...         ...       ...       ...       ...       ...  \n",
       "41995         0         0         0         0         0  \n",
       "41996         0         0         0         0         0  \n",
       "41997         0         0         0         0         0  \n",
       "41998         0         0         0         0         0  \n",
       "41999         0         0         0         0         0  \n",
       "\n",
       "[42000 rows x 785 columns]"
      ]
     },
     "execution_count": 4,
     "metadata": {},
     "output_type": "execute_result"
    }
   ],
   "source": [
    "df"
   ]
  },
  {
   "cell_type": "code",
   "execution_count": 5,
   "id": "42b0036e",
   "metadata": {
    "execution": {
     "iopub.execute_input": "2021-10-26T04:27:52.684529Z",
     "iopub.status.busy": "2021-10-26T04:27:52.683726Z",
     "iopub.status.idle": "2021-10-26T04:27:52.687481Z",
     "shell.execute_reply": "2021-10-26T04:27:52.687995Z",
     "shell.execute_reply.started": "2021-10-26T03:04:15.557090Z"
    },
    "papermill": {
     "duration": 0.030476,
     "end_time": "2021-10-26T04:27:52.688207",
     "exception": false,
     "start_time": "2021-10-26T04:27:52.657731",
     "status": "completed"
    },
    "tags": []
   },
   "outputs": [],
   "source": [
    "x = df.iloc[:,1:]\n",
    "y = df.iloc[:,0]"
   ]
  },
  {
   "cell_type": "markdown",
   "id": "799a85e9",
   "metadata": {
    "papermill": {
     "duration": 0.022308,
     "end_time": "2021-10-26T04:27:52.733702",
     "exception": false,
     "start_time": "2021-10-26T04:27:52.711394",
     "status": "completed"
    },
    "tags": []
   },
   "source": [
    "# Split Data using train_test_split"
   ]
  },
  {
   "cell_type": "code",
   "execution_count": 6,
   "id": "bee874b5",
   "metadata": {
    "execution": {
     "iopub.execute_input": "2021-10-26T04:27:52.784313Z",
     "iopub.status.busy": "2021-10-26T04:27:52.783591Z",
     "iopub.status.idle": "2021-10-26T04:27:53.046960Z",
     "shell.execute_reply": "2021-10-26T04:27:53.046170Z",
     "shell.execute_reply.started": "2021-10-26T03:04:15.563470Z"
    },
    "papermill": {
     "duration": 0.290363,
     "end_time": "2021-10-26T04:27:53.047106",
     "exception": false,
     "start_time": "2021-10-26T04:27:52.756743",
     "status": "completed"
    },
    "tags": []
   },
   "outputs": [],
   "source": [
    "X_train,X_test,Y_train,Y_test=train_test_split(x,y,test_size=0.2,random_state=30)"
   ]
  },
  {
   "cell_type": "markdown",
   "id": "99f52bfa",
   "metadata": {
    "papermill": {
     "duration": 0.022131,
     "end_time": "2021-10-26T04:27:53.092385",
     "exception": false,
     "start_time": "2021-10-26T04:27:53.070254",
     "status": "completed"
    },
    "tags": []
   },
   "source": [
    "# Scaled Data using StandardScaler"
   ]
  },
  {
   "cell_type": "code",
   "execution_count": 7,
   "id": "64ce7583",
   "metadata": {
    "execution": {
     "iopub.execute_input": "2021-10-26T04:27:53.142567Z",
     "iopub.status.busy": "2021-10-26T04:27:53.141587Z",
     "iopub.status.idle": "2021-10-26T04:27:53.144077Z",
     "shell.execute_reply": "2021-10-26T04:27:53.143579Z",
     "shell.execute_reply.started": "2021-10-26T03:04:15.824379Z"
    },
    "papermill": {
     "duration": 0.029415,
     "end_time": "2021-10-26T04:27:53.144268",
     "exception": false,
     "start_time": "2021-10-26T04:27:53.114853",
     "status": "completed"
    },
    "tags": []
   },
   "outputs": [],
   "source": [
    "scaler=StandardScaler()"
   ]
  },
  {
   "cell_type": "code",
   "execution_count": 8,
   "id": "f744f070",
   "metadata": {
    "execution": {
     "iopub.execute_input": "2021-10-26T04:27:53.203489Z",
     "iopub.status.busy": "2021-10-26T04:27:53.202728Z",
     "iopub.status.idle": "2021-10-26T04:27:53.955940Z",
     "shell.execute_reply": "2021-10-26T04:27:53.955332Z",
     "shell.execute_reply.started": "2021-10-26T03:04:15.830537Z"
    },
    "papermill": {
     "duration": 0.789225,
     "end_time": "2021-10-26T04:27:53.956086",
     "exception": false,
     "start_time": "2021-10-26T04:27:53.166861",
     "status": "completed"
    },
    "tags": []
   },
   "outputs": [],
   "source": [
    "X_train_scaled=scaler.fit_transform(X_train)\n",
    "X_test_scaled=scaler.transform(X_test)"
   ]
  },
  {
   "cell_type": "markdown",
   "id": "42072843",
   "metadata": {
    "papermill": {
     "duration": 0.022225,
     "end_time": "2021-10-26T04:27:54.000830",
     "exception": false,
     "start_time": "2021-10-26T04:27:53.978605",
     "status": "completed"
    },
    "tags": []
   },
   "source": [
    "# Predication using LogisticRegression"
   ]
  },
  {
   "cell_type": "code",
   "execution_count": 9,
   "id": "26cd3f99",
   "metadata": {
    "execution": {
     "iopub.execute_input": "2021-10-26T04:27:54.051008Z",
     "iopub.status.busy": "2021-10-26T04:27:54.050301Z",
     "iopub.status.idle": "2021-10-26T04:27:54.053080Z",
     "shell.execute_reply": "2021-10-26T04:27:54.053578Z",
     "shell.execute_reply.started": "2021-10-26T03:04:16.506759Z"
    },
    "papermill": {
     "duration": 0.030452,
     "end_time": "2021-10-26T04:27:54.053757",
     "exception": false,
     "start_time": "2021-10-26T04:27:54.023305",
     "status": "completed"
    },
    "tags": []
   },
   "outputs": [],
   "source": [
    "lr=LogisticRegression(max_iter=1000)"
   ]
  },
  {
   "cell_type": "code",
   "execution_count": 10,
   "id": "f10e39ea",
   "metadata": {
    "execution": {
     "iopub.execute_input": "2021-10-26T04:27:54.102287Z",
     "iopub.status.busy": "2021-10-26T04:27:54.101575Z",
     "iopub.status.idle": "2021-10-26T04:30:18.056940Z",
     "shell.execute_reply": "2021-10-26T04:30:18.057858Z",
     "shell.execute_reply.started": "2021-10-26T03:04:16.513647Z"
    },
    "papermill": {
     "duration": 143.981824,
     "end_time": "2021-10-26T04:30:18.058166",
     "exception": false,
     "start_time": "2021-10-26T04:27:54.076342",
     "status": "completed"
    },
    "tags": []
   },
   "outputs": [
    {
     "data": {
      "text/plain": [
       "LogisticRegression(max_iter=1000)"
      ]
     },
     "execution_count": 10,
     "metadata": {},
     "output_type": "execute_result"
    }
   ],
   "source": [
    "lr.fit(X_train_scaled,Y_train)"
   ]
  },
  {
   "cell_type": "markdown",
   "id": "ac638b11",
   "metadata": {
    "papermill": {
     "duration": 0.03347,
     "end_time": "2021-10-26T04:30:18.132766",
     "exception": false,
     "start_time": "2021-10-26T04:30:18.099296",
     "status": "completed"
    },
    "tags": []
   },
   "source": [
    "## Model accuracy_score "
   ]
  },
  {
   "cell_type": "code",
   "execution_count": 11,
   "id": "1f8767a2",
   "metadata": {
    "execution": {
     "iopub.execute_input": "2021-10-26T04:30:18.184559Z",
     "iopub.status.busy": "2021-10-26T04:30:18.183799Z",
     "iopub.status.idle": "2021-10-26T04:30:18.216541Z",
     "shell.execute_reply": "2021-10-26T04:30:18.218225Z",
     "shell.execute_reply.started": "2021-10-26T03:06:39.455597Z"
    },
    "papermill": {
     "duration": 0.063096,
     "end_time": "2021-10-26T04:30:18.218528",
     "exception": false,
     "start_time": "2021-10-26T04:30:18.155432",
     "status": "completed"
    },
    "tags": []
   },
   "outputs": [
    {
     "data": {
      "text/plain": [
       "0.9020238095238096"
      ]
     },
     "execution_count": 11,
     "metadata": {},
     "output_type": "execute_result"
    }
   ],
   "source": [
    "y_pred=lr.predict(X_test_scaled)\n",
    "accuracy_score(Y_test,y_pred)"
   ]
  },
  {
   "cell_type": "markdown",
   "id": "0488c7a0",
   "metadata": {
    "papermill": {
     "duration": 0.041348,
     "end_time": "2021-10-26T04:30:18.302580",
     "exception": false,
     "start_time": "2021-10-26T04:30:18.261232",
     "status": "completed"
    },
    "tags": []
   },
   "source": [
    "## OR"
   ]
  },
  {
   "cell_type": "code",
   "execution_count": 12,
   "id": "2f959c45",
   "metadata": {
    "execution": {
     "iopub.execute_input": "2021-10-26T04:30:18.366857Z",
     "iopub.status.busy": "2021-10-26T04:30:18.365595Z",
     "iopub.status.idle": "2021-10-26T04:30:18.399482Z",
     "shell.execute_reply": "2021-10-26T04:30:18.400632Z",
     "shell.execute_reply.started": "2021-10-26T03:06:39.514335Z"
    },
    "papermill": {
     "duration": 0.063794,
     "end_time": "2021-10-26T04:30:18.401024",
     "exception": false,
     "start_time": "2021-10-26T04:30:18.337230",
     "status": "completed"
    },
    "tags": []
   },
   "outputs": [
    {
     "data": {
      "text/plain": [
       "0.9020238095238096"
      ]
     },
     "execution_count": 12,
     "metadata": {},
     "output_type": "execute_result"
    }
   ],
   "source": [
    "lr.score(X_test_scaled,Y_test)"
   ]
  },
  {
   "cell_type": "markdown",
   "id": "1dc28989",
   "metadata": {
    "papermill": {
     "duration": 0.042569,
     "end_time": "2021-10-26T04:30:18.485866",
     "exception": false,
     "start_time": "2021-10-26T04:30:18.443297",
     "status": "completed"
    },
    "tags": []
   },
   "source": [
    "# Predication using KNN"
   ]
  },
  {
   "cell_type": "code",
   "execution_count": 13,
   "id": "7c7dfb0a",
   "metadata": {
    "execution": {
     "iopub.execute_input": "2021-10-26T04:30:18.550257Z",
     "iopub.status.busy": "2021-10-26T04:30:18.549066Z",
     "iopub.status.idle": "2021-10-26T04:30:18.552051Z",
     "shell.execute_reply": "2021-10-26T04:30:18.551195Z",
     "shell.execute_reply.started": "2021-10-26T03:06:39.567510Z"
    },
    "papermill": {
     "duration": 0.031726,
     "end_time": "2021-10-26T04:30:18.552226",
     "exception": false,
     "start_time": "2021-10-26T04:30:18.520500",
     "status": "completed"
    },
    "tags": []
   },
   "outputs": [],
   "source": [
    "knn=KNeighborsClassifier(n_neighbors=5)"
   ]
  },
  {
   "cell_type": "code",
   "execution_count": 14,
   "id": "035a09af",
   "metadata": {
    "execution": {
     "iopub.execute_input": "2021-10-26T04:30:18.603762Z",
     "iopub.status.busy": "2021-10-26T04:30:18.602709Z",
     "iopub.status.idle": "2021-10-26T04:38:38.549752Z",
     "shell.execute_reply": "2021-10-26T04:38:38.550298Z",
     "shell.execute_reply.started": "2021-10-26T03:06:39.586370Z"
    },
    "papermill": {
     "duration": 499.974424,
     "end_time": "2021-10-26T04:38:38.550492",
     "exception": false,
     "start_time": "2021-10-26T04:30:18.576068",
     "status": "completed"
    },
    "tags": []
   },
   "outputs": [
    {
     "data": {
      "text/plain": [
       "0.9444047619047619"
      ]
     },
     "execution_count": 14,
     "metadata": {},
     "output_type": "execute_result"
    }
   ],
   "source": [
    "knn.fit(X_train_scaled,Y_train)\n",
    "knn.score(X_test_scaled,Y_test)"
   ]
  },
  {
   "cell_type": "markdown",
   "id": "76f1da12",
   "metadata": {
    "papermill": {
     "duration": 0.023761,
     "end_time": "2021-10-26T04:38:38.598023",
     "exception": false,
     "start_time": "2021-10-26T04:38:38.574262",
     "status": "completed"
    },
    "tags": []
   },
   "source": [
    "# Digit Recogniser using PCA"
   ]
  },
  {
   "cell_type": "code",
   "execution_count": 15,
   "id": "f302b7dc",
   "metadata": {
    "execution": {
     "iopub.execute_input": "2021-10-26T04:38:38.649501Z",
     "iopub.status.busy": "2021-10-26T04:38:38.648807Z",
     "iopub.status.idle": "2021-10-26T04:38:43.945267Z",
     "shell.execute_reply": "2021-10-26T04:38:43.946320Z",
     "shell.execute_reply.started": "2021-10-26T03:14:56.874316Z"
    },
    "papermill": {
     "duration": 5.324375,
     "end_time": "2021-10-26T04:38:43.946621",
     "exception": false,
     "start_time": "2021-10-26T04:38:38.622246",
     "status": "completed"
    },
    "tags": []
   },
   "outputs": [],
   "source": [
    "pca=PCA(0.90)\n",
    "X_train_pca=pca.fit_transform(X_train_scaled)\n",
    "X_test_pca=pca.transform(X_test_scaled)"
   ]
  },
  {
   "cell_type": "markdown",
   "id": "8deeb4a3",
   "metadata": {
    "papermill": {
     "duration": 0.048844,
     "end_time": "2021-10-26T04:38:44.041382",
     "exception": false,
     "start_time": "2021-10-26T04:38:43.992538",
     "status": "completed"
    },
    "tags": []
   },
   "source": [
    "## Predication using LogisticRegression"
   ]
  },
  {
   "cell_type": "code",
   "execution_count": 16,
   "id": "c524a53b",
   "metadata": {
    "execution": {
     "iopub.execute_input": "2021-10-26T04:38:44.104516Z",
     "iopub.status.busy": "2021-10-26T04:38:44.103776Z",
     "iopub.status.idle": "2021-10-26T04:39:39.759449Z",
     "shell.execute_reply": "2021-10-26T04:39:39.760584Z",
     "shell.execute_reply.started": "2021-10-26T03:15:01.356623Z"
    },
    "papermill": {
     "duration": 55.686702,
     "end_time": "2021-10-26T04:39:39.761212",
     "exception": false,
     "start_time": "2021-10-26T04:38:44.074510",
     "status": "completed"
    },
    "tags": []
   },
   "outputs": [
    {
     "data": {
      "text/plain": [
       "0.9213095238095238"
      ]
     },
     "execution_count": 16,
     "metadata": {},
     "output_type": "execute_result"
    }
   ],
   "source": [
    "lr.fit(X_train_pca,Y_train)\n",
    "lr.score(X_test_pca,Y_test)"
   ]
  },
  {
   "cell_type": "code",
   "execution_count": 17,
   "id": "7b6208ca",
   "metadata": {
    "execution": {
     "iopub.execute_input": "2021-10-26T04:39:39.842259Z",
     "iopub.status.busy": "2021-10-26T04:39:39.841303Z",
     "iopub.status.idle": "2021-10-26T04:39:39.845751Z",
     "shell.execute_reply": "2021-10-26T04:39:39.845090Z",
     "shell.execute_reply.started": "2021-10-26T03:15:53.845613Z"
    },
    "papermill": {
     "duration": 0.03841,
     "end_time": "2021-10-26T04:39:39.845889",
     "exception": false,
     "start_time": "2021-10-26T04:39:39.807479",
     "status": "completed"
    },
    "tags": []
   },
   "outputs": [
    {
     "data": {
      "text/plain": [
       "227"
      ]
     },
     "execution_count": 17,
     "metadata": {},
     "output_type": "execute_result"
    }
   ],
   "source": [
    "pca.n_components_"
   ]
  },
  {
   "cell_type": "markdown",
   "id": "fe09fa1a",
   "metadata": {
    "papermill": {
     "duration": 0.024204,
     "end_time": "2021-10-26T04:39:39.894682",
     "exception": false,
     "start_time": "2021-10-26T04:39:39.870478",
     "status": "completed"
    },
    "tags": []
   },
   "source": [
    "## Predication using KNN"
   ]
  },
  {
   "cell_type": "code",
   "execution_count": 18,
   "id": "af4c3c01",
   "metadata": {
    "execution": {
     "iopub.execute_input": "2021-10-26T04:39:39.950244Z",
     "iopub.status.busy": "2021-10-26T04:39:39.948948Z",
     "iopub.status.idle": "2021-10-26T04:42:28.363148Z",
     "shell.execute_reply": "2021-10-26T04:42:28.363768Z",
     "shell.execute_reply.started": "2021-10-26T03:15:53.864868Z"
    },
    "papermill": {
     "duration": 168.444789,
     "end_time": "2021-10-26T04:42:28.364005",
     "exception": false,
     "start_time": "2021-10-26T04:39:39.919216",
     "status": "completed"
    },
    "tags": []
   },
   "outputs": [
    {
     "data": {
      "text/plain": [
       "0.950952380952381"
      ]
     },
     "execution_count": 18,
     "metadata": {},
     "output_type": "execute_result"
    }
   ],
   "source": [
    "knn.fit(X_train_pca,Y_train)\n",
    "knn.score(X_test_pca,Y_test)"
   ]
  },
  {
   "cell_type": "code",
   "execution_count": null,
   "id": "1354a793",
   "metadata": {
    "papermill": {
     "duration": 0.024515,
     "end_time": "2021-10-26T04:42:28.414241",
     "exception": false,
     "start_time": "2021-10-26T04:42:28.389726",
     "status": "completed"
    },
    "tags": []
   },
   "outputs": [],
   "source": []
  },
  {
   "cell_type": "code",
   "execution_count": null,
   "id": "cc4b95e5",
   "metadata": {
    "papermill": {
     "duration": 0.024539,
     "end_time": "2021-10-26T04:42:28.463640",
     "exception": false,
     "start_time": "2021-10-26T04:42:28.439101",
     "status": "completed"
    },
    "tags": []
   },
   "outputs": [],
   "source": []
  }
 ],
 "metadata": {
  "kernelspec": {
   "display_name": "Python 3",
   "language": "python",
   "name": "python3"
  },
  "language_info": {
   "codemirror_mode": {
    "name": "ipython",
    "version": 3
   },
   "file_extension": ".py",
   "mimetype": "text/x-python",
   "name": "python",
   "nbconvert_exporter": "python",
   "pygments_lexer": "ipython3",
   "version": "3.7.10"
  },
  "papermill": {
   "default_parameters": {},
   "duration": 892.250621,
   "end_time": "2021-10-26T04:42:29.303381",
   "environment_variables": {},
   "exception": null,
   "input_path": "__notebook__.ipynb",
   "output_path": "__notebook__.ipynb",
   "parameters": {},
   "start_time": "2021-10-26T04:27:37.052760",
   "version": "2.3.3"
  }
 },
 "nbformat": 4,
 "nbformat_minor": 5
}
